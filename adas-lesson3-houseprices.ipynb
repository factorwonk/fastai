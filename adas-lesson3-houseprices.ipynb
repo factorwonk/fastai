{
 "cells": [
  {
   "cell_type": "code",
   "execution_count": 22,
   "metadata": {},
   "outputs": [],
   "source": [
    "#set print and reload settings\n",
    "import pandas as pd\n",
    "import numpy as np\n",
    "import matplotlib.pyplot as plt\n",
    "import seaborn as sns\n",
    "sns.set_style('whitegrid')\n",
    "%matplotlib inline\n",
    "%reload_ext autoreload\n",
    "%autoreload 2\n",
    "np.set_printoptions(threshold=50,edgeitems=20)\n",
    "sns.set_palette(\"GnBu_d\")\n",
    "from scipy import stats\n",
    "from scipy.stats import norm,skew"
   ]
  },
  {
   "cell_type": "code",
   "execution_count": 23,
   "metadata": {},
   "outputs": [],
   "source": [
    "# import fast ai libraries\n",
    "from fastai.structured import *\n",
    "from fastai.column_data import *\n",
    "import torch\n",
    "\n",
    "PATH='/home/quan/fastai/courses/dl1/houseprice/'"
   ]
  },
  {
   "cell_type": "code",
   "execution_count": 24,
   "metadata": {},
   "outputs": [
    {
     "name": "stdout",
     "output_type": "stream",
     "text": [
      "No of columns: 20\n",
      "No of rows: 21613\n",
      "Index(['date', 'price', 'bedrooms', 'bathrooms', 'sqft_living', 'sqft_lot',\n",
      "       'floors', 'waterfront', 'view', 'condition', 'grade', 'sqft_above',\n",
      "       'sqft_basement', 'yr_built', 'yr_renovated', 'zipcode', 'lat', 'long',\n",
      "       'sqft_living15', 'sqft_lot15'],\n",
      "      dtype='object')\n"
     ]
    }
   ],
   "source": [
    "# read data\n",
    "orig_df = pd.read_csv('kc_house_data.csv',parse_dates=['date'],index_col=['id'])\n",
    "print(\"No of columns: {}\".format(len(orig_df.columns)))\n",
    "print(\"No of rows: {}\".format(len(orig_df)))\n",
    "print(orig_df.columns)"
   ]
  },
  {
   "cell_type": "code",
   "execution_count": 25,
   "metadata": {},
   "outputs": [
    {
     "data": {
      "text/plain": [
       "date             0\n",
       "price            0\n",
       "bedrooms         0\n",
       "bathrooms        0\n",
       "sqft_living      0\n",
       "sqft_lot         0\n",
       "floors           0\n",
       "waterfront       0\n",
       "view             0\n",
       "condition        0\n",
       "grade            0\n",
       "sqft_above       0\n",
       "sqft_basement    0\n",
       "yr_built         0\n",
       "yr_renovated     0\n",
       "zipcode          0\n",
       "lat              0\n",
       "long             0\n",
       "sqft_living15    0\n",
       "sqft_lot15       0\n",
       "dtype: int64"
      ]
     },
     "execution_count": 25,
     "metadata": {},
     "output_type": "execute_result"
    }
   ],
   "source": [
    "#view missing data\n",
    "orig_df.isna().sum()"
   ]
  },
  {
   "cell_type": "code",
   "execution_count": 26,
   "metadata": {},
   "outputs": [
    {
     "name": "stderr",
     "output_type": "stream",
     "text": [
      "/home/quan/anaconda3/envs/fastai/lib/python3.6/site-packages/matplotlib/axes/_axes.py:6448: UserWarning: The 'normed' kwarg is deprecated, and has been replaced by the 'density' kwarg.\n",
      "  warnings.warn(\"The 'normed' kwarg is deprecated, and has been \"\n"
     ]
    },
    {
     "data": {
      "image/png": "[encoded data removed]",
      "text/plain": [
       "<Figure size 720x720 with 1 Axes>"
      ]
     },
     "metadata": {},
     "output_type": "display_data"
    }
   ],
   "source": [
    "# view distribution of data\n",
    "plt.figure(figsize=(10,10))\n",
    "sns.distplot(orig_df.price,bins=50,norm_hist=True)\n",
    "plt.show()                         "
   ]
  },
  {
   "cell_type": "code",
   "execution_count": 27,
   "metadata": {},
   "outputs": [
    {
     "name": "stderr",
     "output_type": "stream",
     "text": [
      "/home/quan/anaconda3/envs/fastai/lib/python3.6/site-packages/ipykernel_launcher.py:10: SettingWithCopyWarning: \n",
      "A value is trying to be set on a copy of a slice from a DataFrame\n",
      "\n",
      "See the caveats in the documentation: http://pandas.pydata.org/pandas-docs/stable/indexing.html#indexing-view-versus-copy\n",
      "  # Remove the CWD from sys.path while we load stuff.\n"
     ]
    },
    {
     "data": {
      "text/plain": [
       "Index(['price', 'bedrooms', 'bathrooms', 'sqft_living', 'sqft_lot', 'floors',\n",
       "       'waterfront', 'view', 'condition', 'grade', 'sqft_above',\n",
       "       'sqft_basement', 'yr_built', 'yr_renovated', 'sqft_living15',\n",
       "       'sqft_lot15', 'year', 'month', 'age', 'is_renovated', 'last_renovated'],\n",
       "      dtype='object')"
      ]
     },
     "execution_count": 27,
     "metadata": {},
     "output_type": "execute_result"
    }
   ],
   "source": [
    "def process_df(df):\n",
    "    \n",
    "    # add feature engineering\n",
    "    df['year'] = pd.DatetimeIndex(df['date']).year\n",
    "    df['month'] = pd.DatetimeIndex(df['date']).month\n",
    "    df.drop('date',inplace=True,axis=1)\n",
    "    df['age'] = df['year'] - df['yr_built']\n",
    "    df['is_renovated'] = (df['yr_renovated'] !=0).astype(int)\n",
    "    df['last_renovated']= 0\n",
    "    df['last_renovated'][df['is_renovated']==1] = df['year'] - df['yr_renovated']     \n",
    "    df.drop('zipcode',inplace=True,axis=1)\n",
    "    df.drop('lat',inplace=True,axis=1)\n",
    "    df.drop('long',inplace=True,axis=1)\n",
    "    df.price = df.price.astype('float32')\n",
    "    return df\n",
    "\n",
    "df = process_df(orig_df)\n",
    "df.columns"
   ]
  },
  {
   "cell_type": "code",
   "execution_count": 28,
   "metadata": {},
   "outputs": [],
   "source": [
    "# convert dtpes \n",
    "\n",
    "# define data categories\n",
    "cat_vars = ['floors', 'waterfront', 'view', 'condition', 'grade','year','month','is_renovated']\n",
    "cont_vars = ['sqft_living', 'sqft_lot','sqft_above','sqft_living15', 'sqft_lot15','sqft_basement','yr_built','last_renovated',\n",
    "            'age','bedrooms', 'bathrooms']\n",
    "target = ['price']\n",
    "\n",
    "#convert cont vars to float 32 for torch\n",
    "for feat in cont_vars:\n",
    "    df[feat] = df[feat].astype('float32')\n",
    "#convert cat vars to category dtype\n",
    "for feat in cat_vars: \n",
    "    df[feat] = df[feat].astype('category').cat.as_ordered()"
   ]
  },
  {
   "cell_type": "code",
   "execution_count": 29,
   "metadata": {},
   "outputs": [],
   "source": [
    "# fast ai removes y and also scales cont vars\n",
    "df, y, nas, mapper = proc_df(df, 'price', do_scale=True)\n",
    "yl = np.log(y) # important this is run on ylog"
   ]
  },
  {
   "cell_type": "code",
   "execution_count": 30,
   "metadata": {},
   "outputs": [],
   "source": [
    "# create train size\n",
    "n=len(df)\n",
    "train_ratio = 0.8\n",
    "train_size = int(n*train_ratio);train_size\n",
    "val_idx = list(range(train_size,len(df)))"
   ]
  },
  {
   "cell_type": "code",
   "execution_count": 31,
   "metadata": {},
   "outputs": [
    {
     "data": {
      "text/plain": [
       "[('floors', 7),\n",
       " ('waterfront', 3),\n",
       " ('view', 6),\n",
       " ('condition', 6),\n",
       " ('grade', 13),\n",
       " ('year', 3),\n",
       " ('month', 13),\n",
       " ('is_renovated', 3)]"
      ]
     },
     "execution_count": 31,
     "metadata": {},
     "output_type": "execute_result"
    }
   ],
   "source": [
    "# determine no of unique items in cat vars\n",
    "cat_sz = [(c,len(df[c].unique())+1) for c in cat_vars]\n",
    "cat_sz"
   ]
  },
  {
   "cell_type": "code",
   "execution_count": 32,
   "metadata": {},
   "outputs": [
    {
     "data": {
      "text/plain": [
       "[(7, 4), (3, 2), (6, 3), (6, 3), (13, 7), (3, 2), (13, 7), (3, 2)]"
      ]
     },
     "execution_count": 32,
     "metadata": {},
     "output_type": "execute_result"
    }
   ],
   "source": [
    "# take cardinality, divide by 2 but not more than 50\n",
    "emb_szs = [(c,min(50,(c+1)//2)) for _,c in cat_sz]\n",
    "emb_szs"
   ]
  },
  {
   "cell_type": "code",
   "execution_count": 33,
   "metadata": {},
   "outputs": [],
   "source": [
    "# ensure y variable is float32\n",
    "md = ColumnarModelData.from_data_frame(PATH, val_idx, df, yl.astype(np.float32), cat_flds=cat_vars, bs=128,test_df=None)"
   ]
  },
  {
   "cell_type": "code",
   "execution_count": 34,
   "metadata": {},
   "outputs": [],
   "source": [
    "# define metrics and pred range\n",
    "max_yl = np.max(yl)\n",
    "y_range = (0, max_yl *1.2)\n",
    "\n",
    "# use mse\n",
    "from sklearn.metrics import mean_squared_error\n",
    "def rmse(y_pred,targ):\n",
    "    return np.sqrt(mean_squared_error(targ,y_pred))"
   ]
  },
  {
   "cell_type": "code",
   "execution_count": 35,
   "metadata": {},
   "outputs": [
    {
     "data": {
      "text/html": [
       "<p>Failed to display Jupyter Widget of type <code>HBox</code>.</p>\n",
       "<p>\n",
       "  If you're reading this message in the Jupyter Notebook or JupyterLab Notebook, it may mean\n",
       "  that the widgets JavaScript is still loading. If this message persists, it\n",
       "  likely means that the widgets JavaScript library is either not installed or\n",
       "  not enabled. See the <a href=\"https://ipywidgets.readthedocs.io/en/stable/user_install.html\">Jupyter\n",
       "  Widgets Documentation</a> for setup instructions.\n",
       "</p>\n",
       "<p>\n",
       "  If you're reading this message in another frontend (for example, a static\n",
       "  rendering on GitHub or <a href=\"https://nbviewer.jupyter.org/\">NBViewer</a>),\n",
       "  it may mean that your frontend doesn't currently support widgets.\n",
       "</p>\n"
      ],
      "text/plain": [
       "HBox(children=(IntProgress(value=0, description='Epoch', max=1), HTML(value='')))"
      ]
     },
     "metadata": {},
     "output_type": "execute_result"
    },
    {
     "name": "stdout",
     "output_type": "stream",
     "text": [
      " 73%|███████▎  | 99/136 [00:01<00:00, 73.66it/s, loss=5.58]\n",
      "                                                           \r"
     ]
    },
    {
     "data": {
      "image/png": "[encoded data removed]",
      "text/plain": [
       "<Figure size 432x288 with 1 Axes>"
      ]
     },
     "metadata": {},
     "output_type": "display_data"
    }
   ],
   "source": [
    "# create a learner to get learning rate\n",
    "mlearn = md.get_learner(emb_szs, len(df.columns)-len(cat_vars), # how many continuous variables\n",
    "                   0.04, 1, [1000,500], [0.001,0.01], y_range=y_range)\n",
    "mlearn.lr_find()\n",
    "plt.title(\"Fast AI learn rate finder\")\n",
    "mlearn.sched.plot()\n",
    "plt.show()"
   ]
  },
  {
   "cell_type": "code",
   "execution_count": 36,
   "metadata": {},
   "outputs": [
    {
     "data": {
      "text/html": [
       "<p>Failed to display Jupyter Widget of type <code>HBox</code>.</p>\n",
       "<p>\n",
       "  If you're reading this message in the Jupyter Notebook or JupyterLab Notebook, it may mean\n",
       "  that the widgets JavaScript is still loading. If this message persists, it\n",
       "  likely means that the widgets JavaScript library is either not installed or\n",
       "  not enabled. See the <a href=\"https://ipywidgets.readthedocs.io/en/stable/user_install.html\">Jupyter\n",
       "  Widgets Documentation</a> for setup instructions.\n",
       "</p>\n",
       "<p>\n",
       "  If you're reading this message in another frontend (for example, a static\n",
       "  rendering on GitHub or <a href=\"https://nbviewer.jupyter.org/\">NBViewer</a>),\n",
       "  it may mean that your frontend doesn't currently support widgets.\n",
       "</p>\n"
      ],
      "text/plain": [
       "HBox(children=(IntProgress(value=0, description='Epoch', max=10), HTML(value='')))"
      ]
     },
     "metadata": {},
     "output_type": "execute_result"
    },
    {
     "name": "stdout",
     "output_type": "stream",
     "text": [
      "epoch      trn_loss   val_loss   rmse                       \n",
      "    0      1.860554   0.602594   0.773592  \n",
      "    1      0.510883   0.264678   0.513385                    \n",
      "    2      0.314755   0.204792   0.451941                    \n",
      "    3      0.272608   0.174983   0.417908                    \n",
      "    4      0.239903   0.156771   0.395392                    \n",
      "    5      0.226301   0.151031   0.387674                    \n",
      "    6      0.209697   0.136473   0.368792                    \n",
      "    7      0.203682   0.128685   0.358209                    \n",
      "    8      0.198878   0.130375   0.360291                    \n",
      "    9      0.190924   0.120782   0.346944                    \n",
      "\n"
     ]
    },
    {
     "data": {
      "text/plain": [
       "[0.120782375, 0.3469443]"
      ]
     },
     "execution_count": 36,
     "metadata": {},
     "output_type": "execute_result"
    }
   ],
   "source": [
    "# create learner object\n",
    "m = md.get_learner(emb_szs, len(df.columns)-len(cat_vars), # how many continuous variables\n",
    "                   0.04, 1, [1000,500], [0.001,0.01], y_range=y_range)\n",
    "lr = 1e-4\n",
    "\n",
    "# train model cycle len 1\n",
    "# cycle_len=1 means continue to decrease lr of course of 1 epoch\n",
    "# cycle_mult parameter says to multiply the length of a cycle by something (in this case, 2) \n",
    "m.fit(lr, 10, metrics=[rmse], cycle_len=1)"
   ]
  },
  {
   "cell_type": "code",
   "execution_count": 38,
   "metadata": {},
   "outputs": [
    {
     "data": {
      "text/html": [
       "<p>Failed to display Jupyter Widget of type <code>HBox</code>.</p>\n",
       "<p>\n",
       "  If you're reading this message in the Jupyter Notebook or JupyterLab Notebook, it may mean\n",
       "  that the widgets JavaScript is still loading. If this message persists, it\n",
       "  likely means that the widgets JavaScript library is either not installed or\n",
       "  not enabled. See the <a href=\"https://ipywidgets.readthedocs.io/en/stable/user_install.html\">Jupyter\n",
       "  Widgets Documentation</a> for setup instructions.\n",
       "</p>\n",
       "<p>\n",
       "  If you're reading this message in another frontend (for example, a static\n",
       "  rendering on GitHub or <a href=\"https://nbviewer.jupyter.org/\">NBViewer</a>),\n",
       "  it may mean that your frontend doesn't currently support widgets.\n",
       "</p>\n"
      ],
      "text/plain": [
       "HBox(children=(IntProgress(value=0, description='Epoch', max=60), HTML(value='')))"
      ]
     },
     "metadata": {},
     "output_type": "execute_result"
    },
    {
     "name": "stdout",
     "output_type": "stream",
     "text": [
      "epoch      trn_loss   val_loss   rmse                        \n",
      "    0      0.159966   0.116858   0.340038  \n",
      "    1      0.14377    0.102479   0.319061                    \n",
      "    2      0.154026   0.109798   0.330318                    \n",
      "    3      0.132843   0.097109   0.310699                    \n",
      "    4      0.141142   0.107816   0.327453                    \n",
      "    5      0.121126   0.096649   0.3101                      \n",
      "    6      0.147271   0.103407   0.321142                    \n",
      "    7      0.124299   0.095592   0.308135                    \n",
      "    8      0.151664   0.172719   0.409383                    \n",
      "    9      0.123336   0.093396   0.304663                    \n",
      "    10     0.129149   0.101616   0.317992                    \n",
      "    11     0.115367   0.092356   0.303101                    \n",
      "    12     0.122168   0.094638   0.307072                    \n",
      "    13     0.110492   0.092828   0.303779                    \n",
      "    14     0.119382   0.099268   0.314437                    \n",
      "    15     0.106658   0.089371   0.298142                    \n",
      "    16     0.117199   0.115452   0.337981                    \n",
      "    17     0.103866   0.091057   0.300847                    \n",
      "    18     0.118589   0.109608   0.329359                    \n",
      "    19     0.101575   0.090476   0.299978                    \n",
      "    20     0.110942   0.097001   0.31044                     \n",
      "    21     0.09956    0.088469   0.296552                     \n",
      "    22     0.106906   0.099255   0.314103                    \n",
      "    23     0.098753   0.089866   0.298659                     \n",
      "    24     0.106504   0.087915   0.295844                    \n",
      "    25     0.09706    0.087345   0.294622                     \n",
      "    26     0.100723   0.093046   0.304122                    \n",
      "    27     0.093441   0.087937   0.295696                     \n",
      "    28     0.097709   0.091132   0.30135                      \n",
      "    29     0.089836   0.085992   0.292155                     \n",
      "    30     0.100134   0.091805   0.30195                      \n",
      "    31     0.087388   0.085194   0.290897                     \n",
      "    32     0.101138   0.133755   0.363213                     \n",
      "    33     0.090168   0.086883   0.293837                     \n",
      "    34     0.102566   0.088702   0.297313                    \n",
      "    35     0.088963   0.08679    0.293603                     \n",
      "    36     0.103144   0.091868   0.302245                    \n",
      "    37     0.090953   0.084907   0.290442                     \n",
      "    38     0.097181   0.090641   0.300324                     \n",
      "    39     0.087702   0.084796   0.290357                     \n",
      "    40     0.09508    0.118113   0.342225                     \n",
      "    41     0.08677    0.085034   0.290674                     \n",
      "    42     0.094481   0.089073   0.297344                     \n",
      "    43     0.08348    0.084633   0.290019                     \n",
      "    44     0.096001   0.109286   0.329315                     \n",
      "    45     0.086307   0.086152   0.292554                     \n",
      "    46     0.108347   0.092471   0.302799                    \n",
      "    47     0.090059   0.085183   0.29099                      \n",
      "    48     0.091647   0.087756   0.295377                     \n",
      "    49     0.079813   0.084594   0.290044                     \n",
      "    50     0.090428   0.090609   0.30038                      \n",
      "    51     0.080494   0.084843   0.290448                     \n",
      "    52     0.087495   0.090662   0.300155                     \n",
      "    53     0.078417   0.084037   0.289069                     \n",
      "    54     0.0891     0.097417   0.311858                     \n",
      "    55     0.07815    0.084852   0.290497                     \n",
      "    56     0.083287   0.083964   0.289171                     \n",
      "    57     0.083283   0.082493   0.286528                     \n",
      "    58     0.08949    0.083481   0.288193                     \n",
      "    59     0.08458    0.083365   0.287837                     \n",
      "\n"
     ]
    },
    {
     "data": {
      "text/plain": [
       "[0.08336535, 0.28783667]"
      ]
     },
     "execution_count": 38,
     "metadata": {},
     "output_type": "execute_result"
    }
   ],
   "source": [
    "# train again with cycle len = 2\n",
    "lr = 1e-4\n",
    "m.fit(lr, 30, metrics=[rmse], cycle_len=2)"
   ]
  },
  {
   "cell_type": "code",
   "execution_count": 41,
   "metadata": {},
   "outputs": [
    {
     "data": {
      "text/plain": [
       "0.2889821"
      ]
     },
     "execution_count": 41,
     "metadata": {},
     "output_type": "execute_result"
    }
   ],
   "source": [
    "# run on test set\n",
    "x,y=m.predict_with_targs()\n",
    "rmse(x,y)\n",
    "\n",
    "# choose to save weights or not\n",
    "#m.save('test1')\n",
    "#m.load('test1')"
   ]
  },
  {
   "cell_type": "code",
   "execution_count": 6,
   "metadata": {},
   "outputs": [],
   "source": [
    "# Lets use other modelling techniques\n",
    "\n",
    "from sklearn.linear_model import ElasticNet, Lasso,  BayesianRidge, LassoLarsIC\n",
    "from sklearn.ensemble import RandomForestRegressor,  GradientBoostingRegressor\n",
    "from sklearn.kernel_ridge import KernelRidge\n",
    "from sklearn.pipeline import make_pipeline\n",
    "from sklearn.preprocessing import RobustScaler\n",
    "from sklearn.base import BaseEstimator, TransformerMixin, RegressorMixin, clone\n",
    "from sklearn.model_selection import KFold, cross_val_score, train_test_split\n",
    "from sklearn.metrics import mean_squared_error\n",
    "import xgboost as xgb\n",
    "import lightgbm as lgb"
   ]
  },
  {
   "cell_type": "code",
   "execution_count": 43,
   "metadata": {},
   "outputs": [
    {
     "name": "stderr",
     "output_type": "stream",
     "text": [
      "/home/quan/anaconda3/envs/fastai/lib/python3.6/site-packages/ipykernel_launcher.py:10: SettingWithCopyWarning: \n",
      "A value is trying to be set on a copy of a slice from a DataFrame\n",
      "\n",
      "See the caveats in the documentation: http://pandas.pydata.org/pandas-docs/stable/indexing.html#indexing-view-versus-copy\n",
      "  # Remove the CWD from sys.path while we load stuff.\n"
     ]
    },
    {
     "data": {
      "text/plain": [
       "price             float32\n",
       "bedrooms            int64\n",
       "bathrooms         float64\n",
       "sqft_living         int64\n",
       "sqft_lot            int64\n",
       "floors            float64\n",
       "waterfront          int64\n",
       "view                int64\n",
       "condition           int64\n",
       "grade               int64\n",
       "sqft_above          int64\n",
       "sqft_basement       int64\n",
       "yr_built            int64\n",
       "yr_renovated        int64\n",
       "sqft_living15       int64\n",
       "sqft_lot15          int64\n",
       "year                int64\n",
       "month               int64\n",
       "age                 int64\n",
       "is_renovated        int64\n",
       "last_renovated      int64\n",
       "dtype: object"
      ]
     },
     "execution_count": 43,
     "metadata": {},
     "output_type": "execute_result"
    }
   ],
   "source": [
    "# load data again and split for other sklearn algoritms\n",
    "orig_df = pd.read_csv('kc_house_data.csv',parse_dates=['date'],index_col=['id'])\n",
    "train = process_df(orig_df)\n",
    "\n",
    "# print dtypes\n",
    "train.dtypes"
   ]
  },
  {
   "cell_type": "code",
   "execution_count": 44,
   "metadata": {},
   "outputs": [],
   "source": [
    "X = train.drop('price')\n",
    "#X =pd.get_dummies(X) # no dummies to get\n",
    "y= np.log(train.price) # take log of price to make it comparable to above"
   ]
  },
  {
   "cell_type": "code",
   "execution_count": 45,
   "metadata": {},
   "outputs": [],
   "source": [
    "# validation function\n",
    "n_folds = 5\n",
    "\n",
    "# define rmse function\n",
    "def rmsle_cv(model):\n",
    "    cv = KFold(n_splits=5, shuffle=True, random_state=42)\n",
    "    rmse = np.sqrt(-cross_val_score(model, X.values, y, scoring=\"neg_mean_squared_error\", cv=cv))\n",
    "    return(rmse)"
   ]
  },
  {
   "cell_type": "code",
   "execution_count": 46,
   "metadata": {},
   "outputs": [],
   "source": [
    "# define models but used scalers to make it robust\n",
    "lasso = make_pipeline(RobustScaler(),Lasso(alpha=0.001))\n",
    "\n",
    "ENet = make_pipeline(RobustScaler(),ElasticNet(random_state=3))\n",
    "\n",
    "KRR = KernelRidge(alpha=0.6, kernel='polynomial', degree=2, coef0=2.5)\n",
    "\n",
    "# used huber to make it robust to outliers\n",
    "GBoost = GradientBoostingRegressor()\n",
    "\n",
    "model_xgb = xgb.XGBRegressor(nthread = -1)\n",
    "\n",
    "model_lgb = lgb.LGBMRegressor()"
   ]
  },
  {
   "cell_type": "code",
   "execution_count": 47,
   "metadata": {},
   "outputs": [
    {
     "name": "stdout",
     "output_type": "stream",
     "text": [
      "\n",
      "Lasso score: 0.2158 (0.0100)\n",
      "\n",
      "ElasticNet score: 0.5088 (0.0066)\n",
      "\n",
      "Xgboost score: 0.0081 (0.0001)\n",
      "\n",
      "LGBM score: 0.0126 (0.0019)\n",
      "\n"
     ]
    }
   ],
   "source": [
    "# test scores of above models\n",
    "score = rmsle_cv(lasso)\n",
    "print(\"\\nLasso score: {:.4f} ({:.4f})\\n\".format(score.mean(), score.std()))\n",
    "\n",
    "score = rmsle_cv(ENet)\n",
    "print(\"ElasticNet score: {:.4f} ({:.4f})\\n\".format(score.mean(), score.std()))\n",
    "\n",
    "#score = rmsle_cv(KRR)\n",
    "#print(\"Kernel Ridge score: {:.4f} ({:.4f})\\n\".format(score.mean(), score.std()))\n",
    "\n",
    "#score = rmsle_cv(GBoost)\n",
    "#print(\"Gradient Boosting score: {:.4f} ({:.4f})\\n\".format(score.mean(), score.std()))\n",
    "\n",
    "score = rmsle_cv(model_xgb)\n",
    "print(\"Xgboost score: {:.4f} ({:.4f})\\n\".format(score.mean(), score.std()))\n",
    "\n",
    "score = rmsle_cv(model_lgb)\n",
    "print(\"LGBM score: {:.4f} ({:.4f})\\n\" .format(score.mean(), score.std()))"
   ]
  },
  {
   "cell_type": "code",
   "execution_count": 50,
   "metadata": {},
   "outputs": [],
   "source": [
    "# simple average model stacker\n",
    "class AverageModels(BaseEstimator,RegressorMixin,TransformerMixin):\n",
    "    def __init__(self,models):\n",
    "        self.models = models\n",
    "    \n",
    "    # define fit method on clones of models\n",
    "    def fit(self,X,y):\n",
    "        self.models_=[clone(x) for x in self.models]\n",
    "        \n",
    "        #train cloned models\n",
    "        for model in self.models_:\n",
    "            model.fit(X,y)\n",
    "            \n",
    "        return self\n",
    "    \n",
    "    # create pred on cloned models and average them\n",
    "    def predict(self,X):\n",
    "        predictions = np.column_stack([model.predict(X) for model in self.models_])\n",
    "        return np.mean(predictions,axis=1)"
   ]
  },
  {
   "cell_type": "code",
   "execution_count": 51,
   "metadata": {},
   "outputs": [
    {
     "name": "stdout",
     "output_type": "stream",
     "text": [
      "Avg base model score: 0.3159 (0.0020)\n",
      "\n"
     ]
    }
   ],
   "source": [
    "# test simple stacker model\n",
    "averaged_models = AverageModels(models =[lasso,ENet])\n",
    "score = rmsle_cv(averaged_models)\n",
    "print(\"Avg base model score: {:.4f} ({:.4f})\\n\".format(score.mean(),score.std()))"
   ]
  },
  {
   "cell_type": "code",
   "execution_count": null,
   "metadata": {},
   "outputs": [],
   "source": []
  }
 ],
 "metadata": {
  "kernelspec": {
   "display_name": "Python 3",
   "language": "python",
   "name": "python3"
  },
  "language_info": {
   "codemirror_mode": {
    "name": "ipython",
    "version": 3
   },
   "file_extension": ".py",
   "mimetype": "text/x-python",
   "name": "python",
   "nbconvert_exporter": "python",
   "pygments_lexer": "ipython3",
   "version": "3.6.4"
  }
 },
 "nbformat": 4,
 "nbformat_minor": 2
}
