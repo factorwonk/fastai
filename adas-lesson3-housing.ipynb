{
 "cells": [
  {
   "cell_type": "markdown",
   "metadata": {},
   "source": [
    "## Using Deep Learning on Kings County Housing Data\n",
    "---"
   ]
  },
  {
   "cell_type": "code",
   "execution_count": 1,
   "metadata": {},
   "outputs": [],
   "source": [
    "#set print and reload settings\n",
    "import pandas as pd\n",
    "import numpy as np\n",
    "import matplotlib.pyplot as plt\n",
    "import seaborn as sns\n",
    "sns.set_style('whitegrid')\n",
    "%matplotlib inline\n",
    "%reload_ext autoreload\n",
    "%autoreload 2\n",
    "np.set_printoptions(threshold=50,edgeitems=20)\n",
    "sns.set_palette(\"GnBu_d\")\n",
    "from scipy import stats\n",
    "from scipy.stats import norm,skew"
   ]
  },
  {
   "cell_type": "code",
   "execution_count": 2,
   "metadata": {},
   "outputs": [],
   "source": [
    "# import fast ai libraries\n",
    "from fastai.structured import *\n",
    "from fastai.column_data import *\n",
    "import torch"
   ]
  },
  {
   "cell_type": "code",
   "execution_count": 3,
   "metadata": {},
   "outputs": [
    {
     "name": "stdout",
     "output_type": "stream",
     "text": [
      "No of columns: 20\n",
      "No of rows: 21613\n",
      "Index(['date', 'price', 'bedrooms', 'bathrooms', 'sqft_living', 'sqft_lot',\n",
      "       'floors', 'waterfront', 'view', 'condition', 'grade', 'sqft_above',\n",
      "       'sqft_basement', 'yr_built', 'yr_renovated', 'zipcode', 'lat', 'long',\n",
      "       'sqft_living15', 'sqft_lot15'],\n",
      "      dtype='object')\n"
     ]
    }
   ],
   "source": [
    "# read data\n",
    "orig_df = pd.read_csv('kc_house_data.csv', parse_dates=['date'],index_col=['id'])\n",
    "print(\"No of columns: {}\".format(len(orig_df.columns)))\n",
    "print(\"No of rows: {}\".format(len(orig_df)))\n",
    "print(orig_df.columns)"
   ]
  },
  {
   "cell_type": "code",
   "execution_count": 4,
   "metadata": {},
   "outputs": [
    {
     "data": {
      "text/plain": [
       "date             0\n",
       "price            0\n",
       "bedrooms         0\n",
       "bathrooms        0\n",
       "sqft_living      0\n",
       "sqft_lot         0\n",
       "floors           0\n",
       "waterfront       0\n",
       "view             0\n",
       "condition        0\n",
       "grade            0\n",
       "sqft_above       0\n",
       "sqft_basement    0\n",
       "yr_built         0\n",
       "yr_renovated     0\n",
       "zipcode          0\n",
       "lat              0\n",
       "long             0\n",
       "sqft_living15    0\n",
       "sqft_lot15       0\n",
       "dtype: int64"
      ]
     },
     "execution_count": 4,
     "metadata": {},
     "output_type": "execute_result"
    }
   ],
   "source": [
    "#view missing data\n",
    "orig_df.isna().sum()"
   ]
  },
  {
   "cell_type": "code",
   "execution_count": 5,
   "metadata": {},
   "outputs": [
    {
     "data": {
      "image/png": "[encoded data removed]",
      "text/plain": [
       "<matplotlib.figure.Figure at 0x7f2309f647b8>"
      ]
     },
     "metadata": {},
     "output_type": "display_data"
    }
   ],
   "source": [
    "# view distribution of data\n",
    "plt.figure(figsize=(10,10))\n",
    "sns.distplot(orig_df.price,bins=50,norm_hist=True)\n",
    "plt.show()"
   ]
  },
  {
   "cell_type": "code",
   "execution_count": 6,
   "metadata": {},
   "outputs": [
    {
     "name": "stderr",
     "output_type": "stream",
     "text": [
      "/home/hyperion/anaconda3/envs/fastai/lib/python3.6/site-packages/ipykernel_launcher.py:9: SettingWithCopyWarning: \n",
      "A value is trying to be set on a copy of a slice from a DataFrame\n",
      "\n",
      "See the caveats in the documentation: http://pandas.pydata.org/pandas-docs/stable/indexing.html#indexing-view-versus-copy\n",
      "  if __name__ == '__main__':\n"
     ]
    },
    {
     "data": {
      "text/plain": [
       "Index(['price', 'bedrooms', 'bathrooms', 'sqft_living', 'sqft_lot', 'floors',\n",
       "       'waterfront', 'view', 'condition', 'grade', 'sqft_above',\n",
       "       'sqft_basement', 'yr_built', 'yr_renovated', 'sqft_living15',\n",
       "       'sqft_lot15', 'year', 'month', 'age', 'is_renovated', 'last_renovated'],\n",
       "      dtype='object')"
      ]
     },
     "execution_count": 6,
     "metadata": {},
     "output_type": "execute_result"
    }
   ],
   "source": [
    "def process_df(df):\n",
    "    # add feature engineering\n",
    "    df['year'] = pd.DatetimeIndex(df['date']).year\n",
    "    df['month'] = pd.DatetimeIndex(df['date']).month\n",
    "    df.drop('date',inplace=True,axis=1)\n",
    "    df['age'] = df['year'] - df['yr_built']\n",
    "    df['is_renovated'] = (df['yr_renovated'] !=0).astype(int)\n",
    "    df['last_renovated']= 0\n",
    "    df['last_renovated'][df['is_renovated']==1] = df['year'] - df['yr_renovated']     \n",
    "    df.drop('zipcode',inplace=True,axis=1)\n",
    "    df.drop('lat',inplace=True,axis=1)\n",
    "    df.drop('long',inplace=True,axis=1)\n",
    "    df.price = df.price.astype('float32')\n",
    "    return df\n",
    "\n",
    "df = process_df(orig_df)\n",
    "df.columns"
   ]
  },
  {
   "cell_type": "code",
   "execution_count": 8,
   "metadata": {},
   "outputs": [],
   "source": [
    "# Convert datatypes \n",
    "\n",
    "# Define categorical data\n",
    "cat_vars = ['floors', 'waterfront', 'view', 'condition', 'grade','year','month','is_renovated']\n",
    "# Continuous Data\n",
    "cont_vars = ['sqft_living', 'sqft_lot','sqft_above','sqft_living15', 'sqft_lot15','sqft_basement','yr_built','last_renovated',\n",
    "            'age','bedrooms', 'bathrooms']\n",
    "# Dependent variable\n",
    "target = ['price']\n",
    "\n",
    "# Torch requires continuous variables to be float 32 type\n",
    "for feat in cont_vars:\n",
    "    df[feat] = df[feat].astype('float32')\n",
    "# Convert categorical variables to category datatype\n",
    "for feat in cat_vars: \n",
    "    df[feat] = df[feat].astype('category').cat.as_ordered()"
   ]
  },
  {
   "cell_type": "code",
   "execution_count": 9,
   "metadata": {},
   "outputs": [],
   "source": [
    "# fast ai scales continuous variables\n",
    "df, y, nas, mapper = proc_df(df, 'price', do_scale=True)\n",
    "# Convert price to log price\n",
    "yl = np.log(y)"
   ]
  },
  {
   "cell_type": "code",
   "execution_count": 10,
   "metadata": {},
   "outputs": [],
   "source": [
    "# create training set\n",
    "n=len(df)\n",
    "train_ratio = 0.8\n",
    "train_size = int(n*train_ratio);train_size\n",
    "val_idx = list(range(train_size,len(df)))"
   ]
  },
  {
   "cell_type": "code",
   "execution_count": 11,
   "metadata": {},
   "outputs": [
    {
     "data": {
      "text/plain": [
       "[('floors', 7),\n",
       " ('waterfront', 3),\n",
       " ('view', 6),\n",
       " ('condition', 6),\n",
       " ('grade', 13),\n",
       " ('year', 3),\n",
       " ('month', 13),\n",
       " ('is_renovated', 3)]"
      ]
     },
     "execution_count": 11,
     "metadata": {},
     "output_type": "execute_result"
    }
   ],
   "source": [
    "# How many unique categories are there?\n",
    "cat_sz = [(c,len(df[c].unique())+1) for c in cat_vars]\n",
    "cat_sz"
   ]
  },
  {
   "cell_type": "code",
   "execution_count": 12,
   "metadata": {},
   "outputs": [
    {
     "data": {
      "text/plain": [
       "[(7, 4), (3, 2), (6, 3), (6, 3), (13, 7), (3, 2), (13, 7), (3, 2)]"
      ]
     },
     "execution_count": 12,
     "metadata": {},
     "output_type": "execute_result"
    }
   ],
   "source": [
    "# Take cardinality, divide by 2 but not more than 50\n",
    "emb_szs = [(c,min(50,(c+1)//2)) for _,c in cat_sz]\n",
    "emb_szs"
   ]
  },
  {
   "cell_type": "code",
   "execution_count": 15,
   "metadata": {},
   "outputs": [],
   "source": [
    "# y variable is float32\n",
    "\n",
    "PATH='/home/hyperion/fastai/courses/dl1/data/housing/'\n",
    "\n",
    "md = ColumnarModelData.from_data_frame(PATH, val_idx, df, yl.astype(np.float32), \n",
    "                                       cat_flds=cat_vars, bs=128,test_df=None)"
   ]
  },
  {
   "cell_type": "code",
   "execution_count": 17,
   "metadata": {},
   "outputs": [],
   "source": [
    "# define metrics and pred range\n",
    "max_yl = np.max(yl)\n",
    "y_range = (0, max_yl *1.2)\n",
    "\n",
    "# use mse\n",
    "from sklearn.metrics import mean_squared_error\n",
    "def rmse(y_pred,targ):\n",
    "    return np.sqrt(mean_squared_error(targ,y_pred))"
   ]
  },
  {
   "cell_type": "code",
   "execution_count": 18,
   "metadata": {},
   "outputs": [
    {
     "data": {
      "application/vnd.jupyter.widget-view+json": {
       "model_id": "ed226ed7c1a34bcba949f7464fea62fa",
       "version_major": 2,
       "version_minor": 0
      },
      "text/html": [
       "<p>Failed to display Jupyter Widget of type <code>HBox</code>.</p>\n",
       "<p>\n",
       "  If you're reading this message in the Jupyter Notebook or JupyterLab Notebook, it may mean\n",
       "  that the widgets JavaScript is still loading. If this message persists, it\n",
       "  likely means that the widgets JavaScript library is either not installed or\n",
       "  not enabled. See the <a href=\"https://ipywidgets.readthedocs.io/en/stable/user_install.html\">Jupyter\n",
       "  Widgets Documentation</a> for setup instructions.\n",
       "</p>\n",
       "<p>\n",
       "  If you're reading this message in another frontend (for example, a static\n",
       "  rendering on GitHub or <a href=\"https://nbviewer.jupyter.org/\">NBViewer</a>),\n",
       "  it may mean that your frontend doesn't currently support widgets.\n",
       "</p>\n"
      ],
      "text/plain": [
       "HBox(children=(IntProgress(value=0, description='Epoch', max=1), HTML(value='')))"
      ]
     },
     "metadata": {},
     "output_type": "display_data"
    },
    {
     "name": "stdout",
     "output_type": "stream",
     "text": [
      "epoch      trn_loss   val_loss                              \n",
      "    0      2.088979   0.456888  \n",
      "\n"
     ]
    },
    {
     "data": {
      "image/png": "[encoded data removed]",
      "text/plain": [
       "<matplotlib.figure.Figure at 0x7f2309d00a90>"
      ]
     },
     "metadata": {},
     "output_type": "display_data"
    }
   ],
   "source": [
    "# create a learner to get learning rate\n",
    "mlearn = md.get_learner(emb_szs, len(df.columns)-len(cat_vars), # how many continuous variables\n",
    "                   0.04, 1, [1000,500], [0.001,0.01], y_range=y_range)\n",
    "mlearn.lr_find()\n",
    "plt.title(\"Fast AI learn rate finder\")\n",
    "mlearn.sched.plot()\n",
    "plt.show()"
   ]
  },
  {
   "cell_type": "code",
   "execution_count": 19,
   "metadata": {},
   "outputs": [
    {
     "data": {
      "application/vnd.jupyter.widget-view+json": {
       "model_id": "8d23f40079634856baac0061b8181f64",
       "version_major": 2,
       "version_minor": 0
      },
      "text/html": [
       "<p>Failed to display Jupyter Widget of type <code>HBox</code>.</p>\n",
       "<p>\n",
       "  If you're reading this message in the Jupyter Notebook or JupyterLab Notebook, it may mean\n",
       "  that the widgets JavaScript is still loading. If this message persists, it\n",
       "  likely means that the widgets JavaScript library is either not installed or\n",
       "  not enabled. See the <a href=\"https://ipywidgets.readthedocs.io/en/stable/user_install.html\">Jupyter\n",
       "  Widgets Documentation</a> for setup instructions.\n",
       "</p>\n",
       "<p>\n",
       "  If you're reading this message in another frontend (for example, a static\n",
       "  rendering on GitHub or <a href=\"https://nbviewer.jupyter.org/\">NBViewer</a>),\n",
       "  it may mean that your frontend doesn't currently support widgets.\n",
       "</p>\n"
      ],
      "text/plain": [
       "HBox(children=(IntProgress(value=0, description='Epoch', max=10), HTML(value='')))"
      ]
     },
     "metadata": {},
     "output_type": "display_data"
    },
    {
     "name": "stdout",
     "output_type": "stream",
     "text": [
      "epoch      trn_loss   val_loss   rmse                         \n",
      "    0      0.765184   0.395464   0.627782  \n",
      "    1      0.341011   0.222423   0.470626                     \n",
      "    2      0.261395   0.17773    0.421102                     \n",
      "    3      0.220472   0.159967   0.39951                      \n",
      "    4      0.198247   0.145253   0.380631                     \n",
      "    5      0.201114   0.142644   0.377076                     \n",
      "    6      0.187564   0.140241   0.37395                     \n",
      "    7      0.180982   0.129007   0.358696                     \n",
      "    8      0.166259   0.125566   0.353878                     \n",
      "    9      0.163524   0.125174   0.353256                     \n",
      "\n"
     ]
    },
    {
     "data": {
      "text/plain": [
       "[0.12517428, 0.35325566]"
      ]
     },
     "execution_count": 19,
     "metadata": {},
     "output_type": "execute_result"
    }
   ],
   "source": [
    "# Create Learner Object\n",
    "m = md.get_learner(emb_szs, len(df.columns)-len(cat_vars), # how many continuous variables\n",
    "                   0.04, 1, [1000,500], [0.001,0.01], y_range=y_range)\n",
    "lr = 1e-4\n",
    "\n",
    "# train model cycle len 1\n",
    "# cycle_len=1 means continue to decrease lr of course of 1 epoch\n",
    "# cycle_mult parameter says to multiply the length of a cycle by something (in this case, 2) \n",
    "m.fit(lr, 10, metrics=[rmse], cycle_len=1)"
   ]
  },
  {
   "cell_type": "code",
   "execution_count": 20,
   "metadata": {},
   "outputs": [
    {
     "data": {
      "application/vnd.jupyter.widget-view+json": {
       "model_id": "e6d04cbf42d743619fb9219399dfd268",
       "version_major": 2,
       "version_minor": 0
      },
      "text/html": [
       "<p>Failed to display Jupyter Widget of type <code>HBox</code>.</p>\n",
       "<p>\n",
       "  If you're reading this message in the Jupyter Notebook or JupyterLab Notebook, it may mean\n",
       "  that the widgets JavaScript is still loading. If this message persists, it\n",
       "  likely means that the widgets JavaScript library is either not installed or\n",
       "  not enabled. See the <a href=\"https://ipywidgets.readthedocs.io/en/stable/user_install.html\">Jupyter\n",
       "  Widgets Documentation</a> for setup instructions.\n",
       "</p>\n",
       "<p>\n",
       "  If you're reading this message in another frontend (for example, a static\n",
       "  rendering on GitHub or <a href=\"https://nbviewer.jupyter.org/\">NBViewer</a>),\n",
       "  it may mean that your frontend doesn't currently support widgets.\n",
       "</p>\n"
      ],
      "text/plain": [
       "HBox(children=(IntProgress(value=0, description='Epoch', max=60), HTML(value='')))"
      ]
     },
     "metadata": {},
     "output_type": "display_data"
    },
    {
     "name": "stdout",
     "output_type": "stream",
     "text": [
      "epoch      trn_loss   val_loss   rmse                         \n",
      "    0      0.177467   0.146196   0.381936  \n",
      "    1      0.144721   0.114629   0.337861                     \n",
      "    2      0.175074   0.128669   0.357742                     \n",
      "    3      0.136378   0.113002   0.335391                     \n",
      "    4      0.142616   0.125318   0.353597                     \n",
      "    5      0.130688   0.108841   0.329127                     \n",
      "    6      0.151511   0.131318   0.360768                     \n",
      "    7      0.121058   0.110947   0.332492                     \n",
      "    8      0.146028   0.120341   0.345588                     \n",
      "    9      0.113777   0.107706   0.327461                     \n",
      "    10     0.130638   0.126173   0.35464                      \n",
      "    11     0.112245   0.103612   0.321071                     \n",
      "    12     0.126691   0.10735    0.326874                     \n",
      "    13     0.106845   0.102514   0.319449                     \n",
      "    14     0.116243   0.102144   0.318756                     \n",
      "    15     0.101483   0.101597   0.31796                      \n",
      "    16     0.108775   0.107619   0.327237                     \n",
      "    17     0.100084   0.101242   0.317242                      \n",
      "    18     0.111692   0.117714   0.342543                     \n",
      "    19     0.101541   0.101471   0.317533                     \n",
      "    20     0.111235   0.115446   0.338495                     \n",
      "    21     0.097358   0.096873   0.310507                      \n",
      "    22     0.106389   0.110593   0.331955                     \n",
      "    23     0.094946   0.099786   0.315137                      \n",
      "    24     0.109163   0.119112   0.344234                     \n",
      "    25     0.090671   0.098958   0.313795                      \n",
      "    26     0.108592   0.11824    0.340333                      \n",
      "    27     0.091927   0.097473   0.311344                      \n",
      "    28     0.124376   0.102222   0.31807                      \n",
      "    29     0.092964   0.093689   0.305177                      \n",
      "    30     0.09333    0.104377   0.322628                      \n",
      "    31     0.093867   0.100178   0.315273                      \n",
      "    32     0.09468    0.095573   0.30812                       \n",
      "    33     0.089246   0.093705   0.305326                      \n",
      "    34     0.106956   0.095188   0.307294                     \n",
      "    35     0.082359   0.095507   0.308136                      \n",
      "    36     0.092084   0.10117    0.317399                      \n",
      "    37     0.082899   0.093754   0.305253                      \n",
      "    38     0.091118   0.094282   0.306201                      \n",
      "    39     0.080525   0.092896   0.303829                      \n",
      "    40     0.09693    0.09819    0.31228                       \n",
      "    41     0.080392   0.092344   0.303142                      \n",
      "    42     0.091047   0.110565   0.332164                      \n",
      "    43     0.080467   0.091789   0.302198                      \n",
      "    44     0.089776   0.097549   0.311409                      \n",
      "    45     0.082123   0.093799   0.305305                      \n",
      "    46     0.085933   0.096686   0.309915                      \n",
      "    47     0.078338   0.093375   0.304777                      \n",
      "    48     0.101824   0.102629   0.31976                      \n",
      "    49     0.075909   0.091973   0.302472                     \n",
      "    50     0.088579   0.10013    0.315841                      \n",
      "    51     0.078904   0.091091   0.301099                      \n",
      "    52     0.084975   0.10397    0.321945                      \n",
      "    53     0.075284   0.09237    0.303122                      \n",
      "    54     0.082908   0.090958   0.300746                     \n",
      "    55     0.078617   0.092749   0.303836                     \n",
      "    56     0.082733   0.131766   0.362091                      \n",
      "    57     0.079179   0.093762   0.305537                      \n",
      "    58     0.082198   0.091437   0.301547                      \n",
      "    59     0.071259   0.091665   0.301992                      \n",
      "\n"
     ]
    },
    {
     "data": {
      "text/plain": [
       "[0.09166514, 0.30199248]"
      ]
     },
     "execution_count": 20,
     "metadata": {},
     "output_type": "execute_result"
    }
   ],
   "source": [
    "# train again with cycle len = 2\n",
    "lr = 1e-4\n",
    "m.fit(lr, 30, metrics=[rmse], cycle_len=2)"
   ]
  },
  {
   "cell_type": "code",
   "execution_count": 21,
   "metadata": {},
   "outputs": [
    {
     "data": {
      "text/plain": [
       "0.3029637"
      ]
     },
     "execution_count": 21,
     "metadata": {},
     "output_type": "execute_result"
    }
   ],
   "source": [
    "# run on test set\n",
    "x,y=m.predict_with_targs()\n",
    "rmse(x,y)"
   ]
  },
  {
   "cell_type": "markdown",
   "metadata": {},
   "source": [
    "## Using Traditional ML techniques\n",
    "---"
   ]
  },
  {
   "cell_type": "code",
   "execution_count": 22,
   "metadata": {},
   "outputs": [],
   "source": [
    "from sklearn.linear_model import ElasticNet, Lasso,  BayesianRidge, LassoLarsIC\n",
    "from sklearn.ensemble import RandomForestRegressor,  GradientBoostingRegressor\n",
    "from sklearn.kernel_ridge import KernelRidge\n",
    "from sklearn.pipeline import make_pipeline\n",
    "from sklearn.preprocessing import RobustScaler\n",
    "from sklearn.base import BaseEstimator, TransformerMixin, RegressorMixin, clone\n",
    "from sklearn.model_selection import KFold, cross_val_score, train_test_split\n",
    "from sklearn.metrics import mean_squared_error\n",
    "import xgboost as xgb\n",
    "import lightgbm as lgb"
   ]
  },
  {
   "cell_type": "code",
   "execution_count": 23,
   "metadata": {},
   "outputs": [
    {
     "name": "stderr",
     "output_type": "stream",
     "text": [
      "/home/hyperion/anaconda3/envs/fastai/lib/python3.6/site-packages/ipykernel_launcher.py:9: SettingWithCopyWarning: \n",
      "A value is trying to be set on a copy of a slice from a DataFrame\n",
      "\n",
      "See the caveats in the documentation: http://pandas.pydata.org/pandas-docs/stable/indexing.html#indexing-view-versus-copy\n",
      "  if __name__ == '__main__':\n"
     ]
    },
    {
     "data": {
      "text/plain": [
       "price             float32\n",
       "bedrooms            int64\n",
       "bathrooms         float64\n",
       "sqft_living         int64\n",
       "sqft_lot            int64\n",
       "floors            float64\n",
       "waterfront          int64\n",
       "view                int64\n",
       "condition           int64\n",
       "grade               int64\n",
       "sqft_above          int64\n",
       "sqft_basement       int64\n",
       "yr_built            int64\n",
       "yr_renovated        int64\n",
       "sqft_living15       int64\n",
       "sqft_lot15          int64\n",
       "year                int64\n",
       "month               int64\n",
       "age                 int64\n",
       "is_renovated        int64\n",
       "last_renovated      int64\n",
       "dtype: object"
      ]
     },
     "execution_count": 23,
     "metadata": {},
     "output_type": "execute_result"
    }
   ],
   "source": [
    "# Load data and split for other sklearn algoritms\n",
    "orig_df = pd.read_csv('kc_house_data.csv',parse_dates=['date'],index_col=['id'])\n",
    "train = process_df(orig_df)\n",
    "# Print dtypes\n",
    "train.dtypes"
   ]
  },
  {
   "cell_type": "code",
   "execution_count": 24,
   "metadata": {},
   "outputs": [],
   "source": [
    "X = train.drop('price')\n",
    "y= np.log(train.price) # take log of price to make it comparable to above"
   ]
  },
  {
   "cell_type": "code",
   "execution_count": 25,
   "metadata": {},
   "outputs": [],
   "source": [
    "# validation function\n",
    "n_folds = 5\n",
    "\n",
    "# define rmse function\n",
    "def rmsle_cv(model):\n",
    "    cv = KFold(n_splits=5, shuffle=True, random_state=42)\n",
    "    rmse = np.sqrt(-cross_val_score(model, X.values, y, scoring=\"neg_mean_squared_error\", cv=cv))\n",
    "    return(rmse)"
   ]
  },
  {
   "cell_type": "code",
   "execution_count": 26,
   "metadata": {},
   "outputs": [],
   "source": [
    "# Define models but used scalers to make it robust\n",
    "lasso = make_pipeline(RobustScaler(),Lasso(alpha=0.001))\n",
    "\n",
    "ENet = make_pipeline(RobustScaler(),ElasticNet(random_state=3))\n",
    "\n",
    "KRR = KernelRidge(alpha=0.6, kernel='polynomial', degree=2, coef0=2.5)\n",
    "\n",
    "# Used huber linear regression to make it robust to outliers\n",
    "GBoost = GradientBoostingRegressor()\n",
    "\n",
    "model_xgb = xgb.XGBRegressor(nthread = -1)\n",
    "\n",
    "model_lgb = lgb.LGBMRegressor()"
   ]
  },
  {
   "cell_type": "code",
   "execution_count": 27,
   "metadata": {},
   "outputs": [
    {
     "name": "stdout",
     "output_type": "stream",
     "text": [
      "\n",
      "Lasso score: 0.2158 (0.0100)\n",
      "\n",
      "ElasticNet score: 0.5088 (0.0066)\n",
      "\n",
      "Xgboost score: 0.0081 (0.0001)\n",
      "\n",
      "LGBM score: 0.0126 (0.0019)\n",
      "\n"
     ]
    }
   ],
   "source": [
    "# Test scores of above models\n",
    "score = rmsle_cv(lasso)\n",
    "print(\"\\nLasso score: {:.4f} ({:.4f})\\n\".format(score.mean(), score.std()))\n",
    "\n",
    "score = rmsle_cv(ENet)\n",
    "print(\"ElasticNet score: {:.4f} ({:.4f})\\n\".format(score.mean(), score.std()))\n",
    "\n",
    "score = rmsle_cv(model_xgb)\n",
    "print(\"Xgboost score: {:.4f} ({:.4f})\\n\".format(score.mean(), score.std()))\n",
    "\n",
    "score = rmsle_cv(model_lgb)\n",
    "print(\"LGBM score: {:.4f} ({:.4f})\\n\" .format(score.mean(), score.std()))"
   ]
  },
  {
   "cell_type": "markdown",
   "metadata": {},
   "source": [
    "### Stacking Models\n",
    "---"
   ]
  },
  {
   "cell_type": "code",
   "execution_count": 28,
   "metadata": {},
   "outputs": [],
   "source": [
    "# Simple average model stacker\n",
    "class AverageModels(BaseEstimator,RegressorMixin,TransformerMixin):\n",
    "    def __init__(self,models):\n",
    "        self.models = models\n",
    "    \n",
    "    # Define fit method on clones of models\n",
    "    def fit(self,X,y):\n",
    "        self.models_=[clone(x) for x in self.models]\n",
    "        \n",
    "        #train cloned models\n",
    "        for model in self.models_:\n",
    "            model.fit(X,y)\n",
    "            \n",
    "        return self\n",
    "    \n",
    "    # Create predictions on cloned models and average them\n",
    "    def predict(self,X):\n",
    "        predictions = np.column_stack([model.predict(X) for model in self.models_])\n",
    "        return np.mean(predictions,axis=1)"
   ]
  },
  {
   "cell_type": "code",
   "execution_count": 29,
   "metadata": {},
   "outputs": [
    {
     "name": "stdout",
     "output_type": "stream",
     "text": [
      "Avg base model score: 0.3159 (0.0020)\n",
      "\n"
     ]
    }
   ],
   "source": [
    "# Test simple stacker model\n",
    "averaged_models = AverageModels(models =[lasso,ENet])\n",
    "score = rmsle_cv(averaged_models)\n",
    "print(\"Avg base model score: {:.4f} ({:.4f})\\n\".format(score.mean(),score.std()))"
   ]
  },
  {
   "cell_type": "code",
   "execution_count": null,
   "metadata": {},
   "outputs": [],
   "source": []
  }
 ],
 "metadata": {
  "kernelspec": {
   "display_name": "Python 3",
   "language": "python",
   "name": "python3"
  },
  "language_info": {
   "codemirror_mode": {
    "name": "ipython",
    "version": 3
   },
   "file_extension": ".py",
   "mimetype": "text/x-python",
   "name": "python",
   "nbconvert_exporter": "python",
   "pygments_lexer": "ipython3",
   "version": "3.6.4"
  }
 },
 "nbformat": 4,
 "nbformat_minor": 2
}
